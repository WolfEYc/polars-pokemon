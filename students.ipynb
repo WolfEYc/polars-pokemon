{
 "cells": [
  {
   "cell_type": "code",
   "execution_count": 59,
   "metadata": {},
   "outputs": [
    {
     "name": "stdout",
     "output_type": "stream",
     "text": [
      "0.19.3\n"
     ]
    }
   ],
   "source": [
    "import polars as pl\n",
    "print(pl.__version__)"
   ]
  },
  {
   "cell_type": "code",
   "execution_count": 60,
   "metadata": {},
   "outputs": [
    {
     "data": {
      "text/html": [
       "<div><style>\n",
       ".dataframe > thead > tr > th,\n",
       ".dataframe > tbody > tr > td {\n",
       "  text-align: right;\n",
       "  white-space: pre-wrap;\n",
       "}\n",
       "</style>\n",
       "<small>shape: (500, 9)</small><table border=\"1\" class=\"dataframe\"><thead><tr><th>id</th><th>gender</th><th>race/ethnicity</th><th>parental level of education</th><th>lunch</th><th>test preparation course</th><th>math score</th><th>reading score</th><th>writing score</th></tr><tr><td>i64</td><td>str</td><td>str</td><td>str</td><td>str</td><td>str</td><td>i64</td><td>i64</td><td>i64</td></tr></thead><tbody><tr><td>1</td><td>&quot;female&quot;</td><td>&quot;group B&quot;</td><td>&quot;bachelor&#x27;s deg…</td><td>&quot;standard&quot;</td><td>&quot;none&quot;</td><td>72</td><td>72</td><td>74</td></tr><tr><td>2</td><td>&quot;female&quot;</td><td>&quot;group C&quot;</td><td>&quot;some college&quot;</td><td>&quot;standard&quot;</td><td>&quot;completed&quot;</td><td>69</td><td>90</td><td>88</td></tr><tr><td>3</td><td>&quot;female&quot;</td><td>&quot;group B&quot;</td><td>&quot;master&#x27;s degre…</td><td>&quot;standard&quot;</td><td>&quot;none&quot;</td><td>90</td><td>95</td><td>93</td></tr><tr><td>4</td><td>&quot;male&quot;</td><td>&quot;group A&quot;</td><td>&quot;associate&#x27;s de…</td><td>&quot;free/reduced&quot;</td><td>&quot;none&quot;</td><td>47</td><td>57</td><td>44</td></tr><tr><td>5</td><td>&quot;male&quot;</td><td>&quot;group C&quot;</td><td>&quot;some college&quot;</td><td>&quot;standard&quot;</td><td>&quot;none&quot;</td><td>76</td><td>78</td><td>75</td></tr><tr><td>6</td><td>&quot;female&quot;</td><td>&quot;group B&quot;</td><td>&quot;associate&#x27;s de…</td><td>&quot;standard&quot;</td><td>&quot;none&quot;</td><td>71</td><td>83</td><td>78</td></tr><tr><td>7</td><td>&quot;female&quot;</td><td>&quot;group B&quot;</td><td>&quot;some college&quot;</td><td>&quot;standard&quot;</td><td>&quot;completed&quot;</td><td>88</td><td>95</td><td>92</td></tr><tr><td>8</td><td>&quot;male&quot;</td><td>&quot;group B&quot;</td><td>&quot;some college&quot;</td><td>&quot;free/reduced&quot;</td><td>&quot;none&quot;</td><td>40</td><td>43</td><td>39</td></tr><tr><td>9</td><td>&quot;male&quot;</td><td>&quot;group D&quot;</td><td>&quot;high school&quot;</td><td>&quot;free/reduced&quot;</td><td>&quot;completed&quot;</td><td>64</td><td>64</td><td>67</td></tr><tr><td>10</td><td>&quot;female&quot;</td><td>&quot;group B&quot;</td><td>&quot;high school&quot;</td><td>&quot;free/reduced&quot;</td><td>&quot;none&quot;</td><td>38</td><td>60</td><td>50</td></tr><tr><td>11</td><td>&quot;male&quot;</td><td>&quot;group C&quot;</td><td>&quot;associate&#x27;s de…</td><td>&quot;standard&quot;</td><td>&quot;none&quot;</td><td>58</td><td>54</td><td>52</td></tr><tr><td>12</td><td>&quot;male&quot;</td><td>&quot;group D&quot;</td><td>&quot;associate&#x27;s de…</td><td>&quot;standard&quot;</td><td>&quot;none&quot;</td><td>40</td><td>52</td><td>43</td></tr><tr><td>&hellip;</td><td>&hellip;</td><td>&hellip;</td><td>&hellip;</td><td>&hellip;</td><td>&hellip;</td><td>&hellip;</td><td>&hellip;</td><td>&hellip;</td></tr><tr><td>489</td><td>&quot;male&quot;</td><td>&quot;group B&quot;</td><td>&quot;some high scho…</td><td>&quot;standard&quot;</td><td>&quot;completed&quot;</td><td>64</td><td>53</td><td>57</td></tr><tr><td>490</td><td>&quot;male&quot;</td><td>&quot;group A&quot;</td><td>&quot;associate&#x27;s de…</td><td>&quot;free/reduced&quot;</td><td>&quot;completed&quot;</td><td>79</td><td>82</td><td>82</td></tr><tr><td>491</td><td>&quot;female&quot;</td><td>&quot;group A&quot;</td><td>&quot;associate&#x27;s de…</td><td>&quot;free/reduced&quot;</td><td>&quot;none&quot;</td><td>65</td><td>85</td><td>76</td></tr><tr><td>492</td><td>&quot;female&quot;</td><td>&quot;group C&quot;</td><td>&quot;associate&#x27;s de…</td><td>&quot;standard&quot;</td><td>&quot;none&quot;</td><td>64</td><td>64</td><td>70</td></tr><tr><td>493</td><td>&quot;female&quot;</td><td>&quot;group C&quot;</td><td>&quot;some college&quot;</td><td>&quot;standard&quot;</td><td>&quot;none&quot;</td><td>83</td><td>83</td><td>90</td></tr><tr><td>494</td><td>&quot;female&quot;</td><td>&quot;group C&quot;</td><td>&quot;bachelor&#x27;s deg…</td><td>&quot;standard&quot;</td><td>&quot;none&quot;</td><td>81</td><td>88</td><td>90</td></tr><tr><td>495</td><td>&quot;female&quot;</td><td>&quot;group B&quot;</td><td>&quot;high school&quot;</td><td>&quot;standard&quot;</td><td>&quot;none&quot;</td><td>54</td><td>64</td><td>68</td></tr><tr><td>496</td><td>&quot;male&quot;</td><td>&quot;group D&quot;</td><td>&quot;high school&quot;</td><td>&quot;standard&quot;</td><td>&quot;completed&quot;</td><td>68</td><td>64</td><td>66</td></tr><tr><td>497</td><td>&quot;female&quot;</td><td>&quot;group C&quot;</td><td>&quot;some college&quot;</td><td>&quot;standard&quot;</td><td>&quot;none&quot;</td><td>54</td><td>48</td><td>52</td></tr><tr><td>498</td><td>&quot;female&quot;</td><td>&quot;group D&quot;</td><td>&quot;some college&quot;</td><td>&quot;free/reduced&quot;</td><td>&quot;completed&quot;</td><td>59</td><td>78</td><td>76</td></tr><tr><td>499</td><td>&quot;female&quot;</td><td>&quot;group B&quot;</td><td>&quot;some high scho…</td><td>&quot;standard&quot;</td><td>&quot;none&quot;</td><td>66</td><td>69</td><td>68</td></tr><tr><td>500</td><td>&quot;male&quot;</td><td>&quot;group E&quot;</td><td>&quot;some college&quot;</td><td>&quot;standard&quot;</td><td>&quot;none&quot;</td><td>76</td><td>71</td><td>72</td></tr></tbody></table></div>"
      ],
      "text/plain": [
       "shape: (500, 9)\n",
       "┌─────┬────────┬───────────────┬───────────────┬───┬──────────────┬────────────┬─────────┬─────────┐\n",
       "│ id  ┆ gender ┆ race/ethnicit ┆ parental      ┆ … ┆ test         ┆ math score ┆ reading ┆ writing │\n",
       "│ --- ┆ ---    ┆ y             ┆ level of      ┆   ┆ preparation  ┆ ---        ┆ score   ┆ score   │\n",
       "│ i64 ┆ str    ┆ ---           ┆ education     ┆   ┆ course       ┆ i64        ┆ ---     ┆ ---     │\n",
       "│     ┆        ┆ str           ┆ ---           ┆   ┆ ---          ┆            ┆ i64     ┆ i64     │\n",
       "│     ┆        ┆               ┆ str           ┆   ┆ str          ┆            ┆         ┆         │\n",
       "╞═════╪════════╪═══════════════╪═══════════════╪═══╪══════════════╪════════════╪═════════╪═════════╡\n",
       "│ 1   ┆ female ┆ group B       ┆ bachelor's    ┆ … ┆ none         ┆ 72         ┆ 72      ┆ 74      │\n",
       "│     ┆        ┆               ┆ degree        ┆   ┆              ┆            ┆         ┆         │\n",
       "│ 2   ┆ female ┆ group C       ┆ some college  ┆ … ┆ completed    ┆ 69         ┆ 90      ┆ 88      │\n",
       "│ 3   ┆ female ┆ group B       ┆ master's      ┆ … ┆ none         ┆ 90         ┆ 95      ┆ 93      │\n",
       "│     ┆        ┆               ┆ degree        ┆   ┆              ┆            ┆         ┆         │\n",
       "│ 4   ┆ male   ┆ group A       ┆ associate's   ┆ … ┆ none         ┆ 47         ┆ 57      ┆ 44      │\n",
       "│     ┆        ┆               ┆ degree        ┆   ┆              ┆            ┆         ┆         │\n",
       "│ …   ┆ …      ┆ …             ┆ …             ┆ … ┆ …            ┆ …          ┆ …       ┆ …       │\n",
       "│ 497 ┆ female ┆ group C       ┆ some college  ┆ … ┆ none         ┆ 54         ┆ 48      ┆ 52      │\n",
       "│ 498 ┆ female ┆ group D       ┆ some college  ┆ … ┆ completed    ┆ 59         ┆ 78      ┆ 76      │\n",
       "│ 499 ┆ female ┆ group B       ┆ some high     ┆ … ┆ none         ┆ 66         ┆ 69      ┆ 68      │\n",
       "│     ┆        ┆               ┆ school        ┆   ┆              ┆            ┆         ┆         │\n",
       "│ 500 ┆ male   ┆ group E       ┆ some college  ┆ … ┆ none         ┆ 76         ┆ 71      ┆ 72      │\n",
       "└─────┴────────┴───────────────┴───────────────┴───┴──────────────┴────────────┴─────────┴─────────┘"
      ]
     },
     "execution_count": 60,
     "metadata": {},
     "output_type": "execute_result"
    }
   ],
   "source": [
    "df = pl.read_csv(\"StudentsPerformance.csv\").lazy()\n",
    "df.fetch()"
   ]
  },
  {
   "cell_type": "code",
   "execution_count": 61,
   "metadata": {},
   "outputs": [
    {
     "data": {
      "text/plain": [
       "['id',\n",
       " 'gender',\n",
       " 'race/ethnicity',\n",
       " 'parental level of education',\n",
       " 'lunch',\n",
       " 'test preparation course',\n",
       " 'math score',\n",
       " 'reading score',\n",
       " 'writing score']"
      ]
     },
     "execution_count": 61,
     "metadata": {},
     "output_type": "execute_result"
    }
   ],
   "source": [
    "df.columns"
   ]
  },
  {
   "cell_type": "code",
   "execution_count": 62,
   "metadata": {},
   "outputs": [
    {
     "data": {
      "text/html": [
       "<div><style>\n",
       ".dataframe > thead > tr > th,\n",
       ".dataframe > tbody > tr > td {\n",
       "  text-align: right;\n",
       "  white-space: pre-wrap;\n",
       "}\n",
       "</style>\n",
       "<small>shape: (500, 2)</small><table border=\"1\" class=\"dataframe\"><thead><tr><th>gender</th><th>sum</th></tr><tr><td>str</td><td>i64</td></tr></thead><tbody><tr><td>&quot;female&quot;</td><td>144</td></tr><tr><td>&quot;female&quot;</td><td>159</td></tr><tr><td>&quot;female&quot;</td><td>185</td></tr><tr><td>&quot;male&quot;</td><td>104</td></tr><tr><td>&quot;male&quot;</td><td>154</td></tr><tr><td>&quot;female&quot;</td><td>154</td></tr><tr><td>&quot;female&quot;</td><td>183</td></tr><tr><td>&quot;male&quot;</td><td>83</td></tr><tr><td>&quot;male&quot;</td><td>128</td></tr><tr><td>&quot;female&quot;</td><td>98</td></tr><tr><td>&quot;male&quot;</td><td>112</td></tr><tr><td>&quot;male&quot;</td><td>92</td></tr><tr><td>&hellip;</td><td>&hellip;</td></tr><tr><td>&quot;male&quot;</td><td>117</td></tr><tr><td>&quot;male&quot;</td><td>161</td></tr><tr><td>&quot;female&quot;</td><td>150</td></tr><tr><td>&quot;female&quot;</td><td>128</td></tr><tr><td>&quot;female&quot;</td><td>166</td></tr><tr><td>&quot;female&quot;</td><td>169</td></tr><tr><td>&quot;female&quot;</td><td>118</td></tr><tr><td>&quot;male&quot;</td><td>132</td></tr><tr><td>&quot;female&quot;</td><td>102</td></tr><tr><td>&quot;female&quot;</td><td>137</td></tr><tr><td>&quot;female&quot;</td><td>135</td></tr><tr><td>&quot;male&quot;</td><td>147</td></tr></tbody></table></div>"
      ],
      "text/plain": [
       "shape: (500, 2)\n",
       "┌────────┬─────┐\n",
       "│ gender ┆ sum │\n",
       "│ ---    ┆ --- │\n",
       "│ str    ┆ i64 │\n",
       "╞════════╪═════╡\n",
       "│ female ┆ 144 │\n",
       "│ female ┆ 159 │\n",
       "│ female ┆ 185 │\n",
       "│ male   ┆ 104 │\n",
       "│ …      ┆ …   │\n",
       "│ female ┆ 102 │\n",
       "│ female ┆ 137 │\n",
       "│ female ┆ 135 │\n",
       "│ male   ┆ 147 │\n",
       "└────────┴─────┘"
      ]
     },
     "execution_count": 62,
     "metadata": {},
     "output_type": "execute_result"
    }
   ],
   "source": [
    "df.select('gender')\n",
    "\n",
    "df.select(['gender', 'math score'])\n",
    "\n",
    "df.select(pl.all())\n",
    "\n",
    "#non-mutating df to view the sum col\n",
    "sum = (pl.col('math score') + pl.col('reading score')).alias('sum')\n",
    "df.with_columns(sum).select(['gender', 'sum']).fetch()"
   ]
  },
  {
   "cell_type": "code",
   "execution_count": 63,
   "metadata": {},
   "outputs": [
    {
     "data": {
      "text/html": [
       "<div><style>\n",
       ".dataframe > thead > tr > th,\n",
       ".dataframe > tbody > tr > td {\n",
       "  text-align: right;\n",
       "  white-space: pre-wrap;\n",
       "}\n",
       "</style>\n",
       "<small>shape: (500, 2)</small><table border=\"1\" class=\"dataframe\"><thead><tr><th>gender</th><th>sum</th></tr><tr><td>str</td><td>i64</td></tr></thead><tbody><tr><td>&quot;female&quot;</td><td>144</td></tr><tr><td>&quot;female&quot;</td><td>159</td></tr><tr><td>&quot;female&quot;</td><td>185</td></tr><tr><td>&quot;male&quot;</td><td>104</td></tr><tr><td>&quot;male&quot;</td><td>154</td></tr><tr><td>&quot;female&quot;</td><td>154</td></tr><tr><td>&quot;female&quot;</td><td>183</td></tr><tr><td>&quot;male&quot;</td><td>83</td></tr><tr><td>&quot;male&quot;</td><td>128</td></tr><tr><td>&quot;female&quot;</td><td>98</td></tr><tr><td>&quot;male&quot;</td><td>112</td></tr><tr><td>&quot;male&quot;</td><td>92</td></tr><tr><td>&hellip;</td><td>&hellip;</td></tr><tr><td>&quot;male&quot;</td><td>117</td></tr><tr><td>&quot;male&quot;</td><td>161</td></tr><tr><td>&quot;female&quot;</td><td>150</td></tr><tr><td>&quot;female&quot;</td><td>128</td></tr><tr><td>&quot;female&quot;</td><td>166</td></tr><tr><td>&quot;female&quot;</td><td>169</td></tr><tr><td>&quot;female&quot;</td><td>118</td></tr><tr><td>&quot;male&quot;</td><td>132</td></tr><tr><td>&quot;female&quot;</td><td>102</td></tr><tr><td>&quot;female&quot;</td><td>137</td></tr><tr><td>&quot;female&quot;</td><td>135</td></tr><tr><td>&quot;male&quot;</td><td>147</td></tr></tbody></table></div>"
      ],
      "text/plain": [
       "shape: (500, 2)\n",
       "┌────────┬─────┐\n",
       "│ gender ┆ sum │\n",
       "│ ---    ┆ --- │\n",
       "│ str    ┆ i64 │\n",
       "╞════════╪═════╡\n",
       "│ female ┆ 144 │\n",
       "│ female ┆ 159 │\n",
       "│ female ┆ 185 │\n",
       "│ male   ┆ 104 │\n",
       "│ …      ┆ …   │\n",
       "│ female ┆ 102 │\n",
       "│ female ┆ 137 │\n",
       "│ female ┆ 135 │\n",
       "│ male   ┆ 147 │\n",
       "└────────┴─────┘"
      ]
     },
     "execution_count": 63,
     "metadata": {},
     "output_type": "execute_result"
    }
   ],
   "source": [
    "#mutates the df with the sum col\n",
    "df = df.with_columns(\n",
    "    (pl.col('math score') + pl.col('reading score')).alias('sum')\n",
    ")\n",
    "\n",
    "df.select(['gender', 'sum']).fetch()"
   ]
  },
  {
   "cell_type": "code",
   "execution_count": 64,
   "metadata": {},
   "outputs": [
    {
     "data": {
      "text/html": [
       "<div><style>\n",
       ".dataframe > thead > tr > th,\n",
       ".dataframe > tbody > tr > td {\n",
       "  text-align: right;\n",
       "  white-space: pre-wrap;\n",
       "}\n",
       "</style>\n",
       "<small>shape: (104, 10)</small><table border=\"1\" class=\"dataframe\"><thead><tr><th>id</th><th>gender</th><th>race/ethnicity</th><th>parental level of education</th><th>lunch</th><th>test preparation course</th><th>math score</th><th>reading score</th><th>writing score</th><th>sum</th></tr><tr><td>i64</td><td>str</td><td>str</td><td>str</td><td>str</td><td>str</td><td>i64</td><td>i64</td><td>i64</td><td>i64</td></tr></thead><tbody><tr><td>1</td><td>&quot;female&quot;</td><td>&quot;group B&quot;</td><td>&quot;bachelor&#x27;s deg…</td><td>&quot;standard&quot;</td><td>&quot;none&quot;</td><td>72</td><td>72</td><td>74</td><td>144</td></tr><tr><td>3</td><td>&quot;female&quot;</td><td>&quot;group B&quot;</td><td>&quot;master&#x27;s degre…</td><td>&quot;standard&quot;</td><td>&quot;none&quot;</td><td>90</td><td>95</td><td>93</td><td>185</td></tr><tr><td>6</td><td>&quot;female&quot;</td><td>&quot;group B&quot;</td><td>&quot;associate&#x27;s de…</td><td>&quot;standard&quot;</td><td>&quot;none&quot;</td><td>71</td><td>83</td><td>78</td><td>154</td></tr><tr><td>7</td><td>&quot;female&quot;</td><td>&quot;group B&quot;</td><td>&quot;some college&quot;</td><td>&quot;standard&quot;</td><td>&quot;completed&quot;</td><td>88</td><td>95</td><td>92</td><td>183</td></tr><tr><td>10</td><td>&quot;female&quot;</td><td>&quot;group B&quot;</td><td>&quot;high school&quot;</td><td>&quot;free/reduced&quot;</td><td>&quot;none&quot;</td><td>38</td><td>60</td><td>50</td><td>98</td></tr><tr><td>13</td><td>&quot;female&quot;</td><td>&quot;group B&quot;</td><td>&quot;high school&quot;</td><td>&quot;standard&quot;</td><td>&quot;none&quot;</td><td>65</td><td>81</td><td>73</td><td>146</td></tr><tr><td>18</td><td>&quot;female&quot;</td><td>&quot;group B&quot;</td><td>&quot;some high scho…</td><td>&quot;free/reduced&quot;</td><td>&quot;none&quot;</td><td>18</td><td>32</td><td>28</td><td>50</td></tr><tr><td>22</td><td>&quot;female&quot;</td><td>&quot;group B&quot;</td><td>&quot;some college&quot;</td><td>&quot;free/reduced&quot;</td><td>&quot;completed&quot;</td><td>65</td><td>75</td><td>70</td><td>140</td></tr><tr><td>32</td><td>&quot;female&quot;</td><td>&quot;group B&quot;</td><td>&quot;some college&quot;</td><td>&quot;standard&quot;</td><td>&quot;none&quot;</td><td>63</td><td>65</td><td>61</td><td>128</td></tr><tr><td>43</td><td>&quot;female&quot;</td><td>&quot;group B&quot;</td><td>&quot;associate&#x27;s de…</td><td>&quot;standard&quot;</td><td>&quot;none&quot;</td><td>53</td><td>58</td><td>65</td><td>111</td></tr><tr><td>81</td><td>&quot;female&quot;</td><td>&quot;group B&quot;</td><td>&quot;associate&#x27;s de…</td><td>&quot;standard&quot;</td><td>&quot;none&quot;</td><td>47</td><td>49</td><td>50</td><td>96</td></tr><tr><td>95</td><td>&quot;female&quot;</td><td>&quot;group B&quot;</td><td>&quot;some college&quot;</td><td>&quot;standard&quot;</td><td>&quot;none&quot;</td><td>79</td><td>86</td><td>92</td><td>165</td></tr><tr><td>&hellip;</td><td>&hellip;</td><td>&hellip;</td><td>&hellip;</td><td>&hellip;</td><td>&hellip;</td><td>&hellip;</td><td>&hellip;</td><td>&hellip;</td><td>&hellip;</td></tr><tr><td>824</td><td>&quot;female&quot;</td><td>&quot;group B&quot;</td><td>&quot;high school&quot;</td><td>&quot;free/reduced&quot;</td><td>&quot;none&quot;</td><td>71</td><td>87</td><td>82</td><td>158</td></tr><tr><td>834</td><td>&quot;female&quot;</td><td>&quot;group B&quot;</td><td>&quot;high school&quot;</td><td>&quot;standard&quot;</td><td>&quot;completed&quot;</td><td>77</td><td>82</td><td>89</td><td>159</td></tr><tr><td>843</td><td>&quot;female&quot;</td><td>&quot;group B&quot;</td><td>&quot;high school&quot;</td><td>&quot;free/reduced&quot;</td><td>&quot;completed&quot;</td><td>23</td><td>44</td><td>36</td><td>67</td></tr><tr><td>856</td><td>&quot;female&quot;</td><td>&quot;group B&quot;</td><td>&quot;bachelor&#x27;s deg…</td><td>&quot;standard&quot;</td><td>&quot;none&quot;</td><td>97</td><td>97</td><td>96</td><td>194</td></tr><tr><td>883</td><td>&quot;female&quot;</td><td>&quot;group B&quot;</td><td>&quot;high school&quot;</td><td>&quot;free/reduced&quot;</td><td>&quot;none&quot;</td><td>64</td><td>73</td><td>71</td><td>137</td></tr><tr><td>898</td><td>&quot;female&quot;</td><td>&quot;group B&quot;</td><td>&quot;some high scho…</td><td>&quot;free/reduced&quot;</td><td>&quot;completed&quot;</td><td>63</td><td>78</td><td>79</td><td>141</td></tr><tr><td>915</td><td>&quot;female&quot;</td><td>&quot;group B&quot;</td><td>&quot;associate&#x27;s de…</td><td>&quot;free/reduced&quot;</td><td>&quot;none&quot;</td><td>46</td><td>61</td><td>55</td><td>107</td></tr><tr><td>924</td><td>&quot;female&quot;</td><td>&quot;group B&quot;</td><td>&quot;associate&#x27;s de…</td><td>&quot;free/reduced&quot;</td><td>&quot;none&quot;</td><td>54</td><td>65</td><td>65</td><td>119</td></tr><tr><td>945</td><td>&quot;female&quot;</td><td>&quot;group B&quot;</td><td>&quot;high school&quot;</td><td>&quot;standard&quot;</td><td>&quot;none&quot;</td><td>58</td><td>68</td><td>61</td><td>126</td></tr><tr><td>970</td><td>&quot;female&quot;</td><td>&quot;group B&quot;</td><td>&quot;bachelor&#x27;s deg…</td><td>&quot;standard&quot;</td><td>&quot;none&quot;</td><td>75</td><td>84</td><td>80</td><td>159</td></tr><tr><td>981</td><td>&quot;female&quot;</td><td>&quot;group B&quot;</td><td>&quot;high school&quot;</td><td>&quot;free/reduced&quot;</td><td>&quot;none&quot;</td><td>8</td><td>24</td><td>23</td><td>32</td></tr><tr><td>992</td><td>&quot;female&quot;</td><td>&quot;group B&quot;</td><td>&quot;some high scho…</td><td>&quot;standard&quot;</td><td>&quot;completed&quot;</td><td>65</td><td>82</td><td>78</td><td>147</td></tr></tbody></table></div>"
      ],
      "text/plain": [
       "shape: (104, 10)\n",
       "┌─────┬────────┬────────────────┬────────────────┬───┬────────────┬─────────┬────────────────┬─────┐\n",
       "│ id  ┆ gender ┆ race/ethnicity ┆ parental level ┆ … ┆ math score ┆ reading ┆ writing score  ┆ sum │\n",
       "│ --- ┆ ---    ┆ ---            ┆ of education   ┆   ┆ ---        ┆ score   ┆ ---            ┆ --- │\n",
       "│ i64 ┆ str    ┆ str            ┆ ---            ┆   ┆ i64        ┆ ---     ┆ i64            ┆ i64 │\n",
       "│     ┆        ┆                ┆ str            ┆   ┆            ┆ i64     ┆                ┆     │\n",
       "╞═════╪════════╪════════════════╪════════════════╪═══╪════════════╪═════════╪════════════════╪═════╡\n",
       "│ 1   ┆ female ┆ group B        ┆ bachelor's     ┆ … ┆ 72         ┆ 72      ┆ 74             ┆ 144 │\n",
       "│     ┆        ┆                ┆ degree         ┆   ┆            ┆         ┆                ┆     │\n",
       "│ 3   ┆ female ┆ group B        ┆ master's       ┆ … ┆ 90         ┆ 95      ┆ 93             ┆ 185 │\n",
       "│     ┆        ┆                ┆ degree         ┆   ┆            ┆         ┆                ┆     │\n",
       "│ 6   ┆ female ┆ group B        ┆ associate's    ┆ … ┆ 71         ┆ 83      ┆ 78             ┆ 154 │\n",
       "│     ┆        ┆                ┆ degree         ┆   ┆            ┆         ┆                ┆     │\n",
       "│ 7   ┆ female ┆ group B        ┆ some college   ┆ … ┆ 88         ┆ 95      ┆ 92             ┆ 183 │\n",
       "│ …   ┆ …      ┆ …              ┆ …              ┆ … ┆ …          ┆ …       ┆ …              ┆ …   │\n",
       "│ 945 ┆ female ┆ group B        ┆ high school    ┆ … ┆ 58         ┆ 68      ┆ 61             ┆ 126 │\n",
       "│ 970 ┆ female ┆ group B        ┆ bachelor's     ┆ … ┆ 75         ┆ 84      ┆ 80             ┆ 159 │\n",
       "│     ┆        ┆                ┆ degree         ┆   ┆            ┆         ┆                ┆     │\n",
       "│ 981 ┆ female ┆ group B        ┆ high school    ┆ … ┆ 8          ┆ 24      ┆ 23             ┆ 32  │\n",
       "│ 992 ┆ female ┆ group B        ┆ some high      ┆ … ┆ 65         ┆ 82      ┆ 78             ┆ 147 │\n",
       "│     ┆        ┆                ┆ school         ┆   ┆            ┆         ┆                ┆     │\n",
       "└─────┴────────┴────────────────┴────────────────┴───┴────────────┴─────────┴────────────────┴─────┘"
      ]
     },
     "execution_count": 64,
     "metadata": {},
     "output_type": "execute_result"
    }
   ],
   "source": [
    "female_filter = pl.col('gender') == 'female'\n",
    "group_b_filter = pl.col('race/ethnicity') == 'group B'\n",
    "df.filter(female_filter & group_b_filter).fetch()"
   ]
  },
  {
   "cell_type": "code",
   "execution_count": 65,
   "metadata": {},
   "outputs": [
    {
     "data": {
      "text/html": [
       "<div><style>\n",
       ".dataframe > thead > tr > th,\n",
       ".dataframe > tbody > tr > td {\n",
       "  text-align: right;\n",
       "  white-space: pre-wrap;\n",
       "}\n",
       "</style>\n",
       "<small>shape: (5, 2)</small><table border=\"1\" class=\"dataframe\"><thead><tr><th>race/ethnicity</th><th>count</th></tr><tr><td>str</td><td>u32</td></tr></thead><tbody><tr><td>&quot;group C&quot;</td><td>319</td></tr><tr><td>&quot;group D&quot;</td><td>262</td></tr><tr><td>&quot;group B&quot;</td><td>190</td></tr><tr><td>&quot;group E&quot;</td><td>140</td></tr><tr><td>&quot;group A&quot;</td><td>89</td></tr></tbody></table></div>"
      ],
      "text/plain": [
       "shape: (5, 2)\n",
       "┌────────────────┬───────┐\n",
       "│ race/ethnicity ┆ count │\n",
       "│ ---            ┆ ---   │\n",
       "│ str            ┆ u32   │\n",
       "╞════════════════╪═══════╡\n",
       "│ group C        ┆ 319   │\n",
       "│ group D        ┆ 262   │\n",
       "│ group B        ┆ 190   │\n",
       "│ group E        ┆ 140   │\n",
       "│ group A        ┆ 89    │\n",
       "└────────────────┴───────┘"
      ]
     },
     "execution_count": 65,
     "metadata": {},
     "output_type": "execute_result"
    }
   ],
   "source": [
    "(df.group_by('race/ethnicity')\n",
    " .count()\n",
    " .sort(by='count', descending=True)\n",
    " .collect())"
   ]
  },
  {
   "cell_type": "code",
   "execution_count": 66,
   "metadata": {},
   "outputs": [
    {
     "data": {
      "text/html": [
       "<div><style>\n",
       ".dataframe > thead > tr > th,\n",
       ".dataframe > tbody > tr > td {\n",
       "  text-align: right;\n",
       "  white-space: pre-wrap;\n",
       "}\n",
       "</style>\n",
       "<small>shape: (500, 11)</small><table border=\"1\" class=\"dataframe\"><thead><tr><th>id</th><th>gender</th><th>race/ethnicity</th><th>parental level of education</th><th>lunch</th><th>test preparation course</th><th>math score</th><th>reading score</th><th>writing score</th><th>sum</th><th>language score</th></tr><tr><td>i64</td><td>str</td><td>str</td><td>str</td><td>str</td><td>str</td><td>i64</td><td>i64</td><td>i64</td><td>i64</td><td>i64</td></tr></thead><tbody><tr><td>1</td><td>&quot;female&quot;</td><td>&quot;group B&quot;</td><td>&quot;bachelor&#x27;s deg…</td><td>&quot;standard&quot;</td><td>&quot;none&quot;</td><td>72</td><td>72</td><td>74</td><td>144</td><td>74</td></tr><tr><td>2</td><td>&quot;female&quot;</td><td>&quot;group C&quot;</td><td>&quot;some college&quot;</td><td>&quot;standard&quot;</td><td>&quot;completed&quot;</td><td>69</td><td>90</td><td>88</td><td>159</td><td>67</td></tr><tr><td>3</td><td>&quot;female&quot;</td><td>&quot;group B&quot;</td><td>&quot;master&#x27;s degre…</td><td>&quot;standard&quot;</td><td>&quot;none&quot;</td><td>90</td><td>95</td><td>93</td><td>185</td><td>34</td></tr><tr><td>4</td><td>&quot;male&quot;</td><td>&quot;group A&quot;</td><td>&quot;associate&#x27;s de…</td><td>&quot;free/reduced&quot;</td><td>&quot;none&quot;</td><td>47</td><td>57</td><td>44</td><td>104</td><td>33</td></tr><tr><td>5</td><td>&quot;male&quot;</td><td>&quot;group C&quot;</td><td>&quot;some college&quot;</td><td>&quot;standard&quot;</td><td>&quot;none&quot;</td><td>76</td><td>78</td><td>75</td><td>154</td><td>75</td></tr><tr><td>6</td><td>&quot;female&quot;</td><td>&quot;group B&quot;</td><td>&quot;associate&#x27;s de…</td><td>&quot;standard&quot;</td><td>&quot;none&quot;</td><td>71</td><td>83</td><td>78</td><td>154</td><td>51</td></tr><tr><td>7</td><td>&quot;female&quot;</td><td>&quot;group B&quot;</td><td>&quot;some college&quot;</td><td>&quot;standard&quot;</td><td>&quot;completed&quot;</td><td>88</td><td>95</td><td>92</td><td>183</td><td>95</td></tr><tr><td>8</td><td>&quot;male&quot;</td><td>&quot;group B&quot;</td><td>&quot;some college&quot;</td><td>&quot;free/reduced&quot;</td><td>&quot;none&quot;</td><td>40</td><td>43</td><td>39</td><td>83</td><td>92</td></tr><tr><td>9</td><td>&quot;male&quot;</td><td>&quot;group D&quot;</td><td>&quot;high school&quot;</td><td>&quot;free/reduced&quot;</td><td>&quot;completed&quot;</td><td>64</td><td>64</td><td>67</td><td>128</td><td>56</td></tr><tr><td>10</td><td>&quot;female&quot;</td><td>&quot;group B&quot;</td><td>&quot;high school&quot;</td><td>&quot;free/reduced&quot;</td><td>&quot;none&quot;</td><td>38</td><td>60</td><td>50</td><td>98</td><td>60</td></tr><tr><td>11</td><td>&quot;male&quot;</td><td>&quot;group C&quot;</td><td>&quot;associate&#x27;s de…</td><td>&quot;standard&quot;</td><td>&quot;none&quot;</td><td>58</td><td>54</td><td>52</td><td>112</td><td>76</td></tr><tr><td>12</td><td>&quot;male&quot;</td><td>&quot;group D&quot;</td><td>&quot;associate&#x27;s de…</td><td>&quot;standard&quot;</td><td>&quot;none&quot;</td><td>40</td><td>52</td><td>43</td><td>92</td><td>41</td></tr><tr><td>&hellip;</td><td>&hellip;</td><td>&hellip;</td><td>&hellip;</td><td>&hellip;</td><td>&hellip;</td><td>&hellip;</td><td>&hellip;</td><td>&hellip;</td><td>&hellip;</td><td>&hellip;</td></tr><tr><td>489</td><td>&quot;male&quot;</td><td>&quot;group B&quot;</td><td>&quot;some high scho…</td><td>&quot;standard&quot;</td><td>&quot;completed&quot;</td><td>64</td><td>53</td><td>57</td><td>117</td><td>null</td></tr><tr><td>490</td><td>&quot;male&quot;</td><td>&quot;group A&quot;</td><td>&quot;associate&#x27;s de…</td><td>&quot;free/reduced&quot;</td><td>&quot;completed&quot;</td><td>79</td><td>82</td><td>82</td><td>161</td><td>null</td></tr><tr><td>491</td><td>&quot;female&quot;</td><td>&quot;group A&quot;</td><td>&quot;associate&#x27;s de…</td><td>&quot;free/reduced&quot;</td><td>&quot;none&quot;</td><td>65</td><td>85</td><td>76</td><td>150</td><td>null</td></tr><tr><td>492</td><td>&quot;female&quot;</td><td>&quot;group C&quot;</td><td>&quot;associate&#x27;s de…</td><td>&quot;standard&quot;</td><td>&quot;none&quot;</td><td>64</td><td>64</td><td>70</td><td>128</td><td>null</td></tr><tr><td>493</td><td>&quot;female&quot;</td><td>&quot;group C&quot;</td><td>&quot;some college&quot;</td><td>&quot;standard&quot;</td><td>&quot;none&quot;</td><td>83</td><td>83</td><td>90</td><td>166</td><td>null</td></tr><tr><td>494</td><td>&quot;female&quot;</td><td>&quot;group C&quot;</td><td>&quot;bachelor&#x27;s deg…</td><td>&quot;standard&quot;</td><td>&quot;none&quot;</td><td>81</td><td>88</td><td>90</td><td>169</td><td>null</td></tr><tr><td>495</td><td>&quot;female&quot;</td><td>&quot;group B&quot;</td><td>&quot;high school&quot;</td><td>&quot;standard&quot;</td><td>&quot;none&quot;</td><td>54</td><td>64</td><td>68</td><td>118</td><td>null</td></tr><tr><td>496</td><td>&quot;male&quot;</td><td>&quot;group D&quot;</td><td>&quot;high school&quot;</td><td>&quot;standard&quot;</td><td>&quot;completed&quot;</td><td>68</td><td>64</td><td>66</td><td>132</td><td>null</td></tr><tr><td>497</td><td>&quot;female&quot;</td><td>&quot;group C&quot;</td><td>&quot;some college&quot;</td><td>&quot;standard&quot;</td><td>&quot;none&quot;</td><td>54</td><td>48</td><td>52</td><td>102</td><td>null</td></tr><tr><td>498</td><td>&quot;female&quot;</td><td>&quot;group D&quot;</td><td>&quot;some college&quot;</td><td>&quot;free/reduced&quot;</td><td>&quot;completed&quot;</td><td>59</td><td>78</td><td>76</td><td>137</td><td>null</td></tr><tr><td>499</td><td>&quot;female&quot;</td><td>&quot;group B&quot;</td><td>&quot;some high scho…</td><td>&quot;standard&quot;</td><td>&quot;none&quot;</td><td>66</td><td>69</td><td>68</td><td>135</td><td>null</td></tr><tr><td>500</td><td>&quot;male&quot;</td><td>&quot;group E&quot;</td><td>&quot;some college&quot;</td><td>&quot;standard&quot;</td><td>&quot;none&quot;</td><td>76</td><td>71</td><td>72</td><td>147</td><td>null</td></tr></tbody></table></div>"
      ],
      "text/plain": [
       "shape: (500, 11)\n",
       "┌─────┬────────┬─────────────────┬─────────────────┬───┬─────────┬────────────────┬─────┬──────────┐\n",
       "│ id  ┆ gender ┆ race/ethnicity  ┆ parental level  ┆ … ┆ reading ┆ writing score  ┆ sum ┆ language │\n",
       "│ --- ┆ ---    ┆ ---             ┆ of education    ┆   ┆ score   ┆ ---            ┆ --- ┆ score    │\n",
       "│ i64 ┆ str    ┆ str             ┆ ---             ┆   ┆ ---     ┆ i64            ┆ i64 ┆ ---      │\n",
       "│     ┆        ┆                 ┆ str             ┆   ┆ i64     ┆                ┆     ┆ i64      │\n",
       "╞═════╪════════╪═════════════════╪═════════════════╪═══╪═════════╪════════════════╪═════╪══════════╡\n",
       "│ 1   ┆ female ┆ group B         ┆ bachelor's      ┆ … ┆ 72      ┆ 74             ┆ 144 ┆ 74       │\n",
       "│     ┆        ┆                 ┆ degree          ┆   ┆         ┆                ┆     ┆          │\n",
       "│ 2   ┆ female ┆ group C         ┆ some college    ┆ … ┆ 90      ┆ 88             ┆ 159 ┆ 67       │\n",
       "│ 3   ┆ female ┆ group B         ┆ master's degree ┆ … ┆ 95      ┆ 93             ┆ 185 ┆ 34       │\n",
       "│ 4   ┆ male   ┆ group A         ┆ associate's     ┆ … ┆ 57      ┆ 44             ┆ 104 ┆ 33       │\n",
       "│     ┆        ┆                 ┆ degree          ┆   ┆         ┆                ┆     ┆          │\n",
       "│ …   ┆ …      ┆ …               ┆ …               ┆ … ┆ …       ┆ …              ┆ …   ┆ …        │\n",
       "│ 497 ┆ female ┆ group C         ┆ some college    ┆ … ┆ 48      ┆ 52             ┆ 102 ┆ null     │\n",
       "│ 498 ┆ female ┆ group D         ┆ some college    ┆ … ┆ 78      ┆ 76             ┆ 137 ┆ null     │\n",
       "│ 499 ┆ female ┆ group B         ┆ some high       ┆ … ┆ 69      ┆ 68             ┆ 135 ┆ null     │\n",
       "│     ┆        ┆                 ┆ school          ┆   ┆         ┆                ┆     ┆          │\n",
       "│ 500 ┆ male   ┆ group E         ┆ some college    ┆ … ┆ 71      ┆ 72             ┆ 147 ┆ null     │\n",
       "└─────┴────────┴─────────────────┴─────────────────┴───┴─────────┴────────────────┴─────┴──────────┘"
      ]
     },
     "execution_count": 66,
     "metadata": {},
     "output_type": "execute_result"
    }
   ],
   "source": [
    "lang_score = pl.read_csv(\"LanguageScore.csv\").lazy()\n",
    "\n",
    "df = df.join(lang_score, on='id', how=\"left\")\n",
    "df.fetch()"
   ]
  },
  {
   "cell_type": "code",
   "execution_count": 67,
   "metadata": {},
   "outputs": [
    {
     "data": {
      "text/html": [
       "<div><style>\n",
       ".dataframe > thead > tr > th,\n",
       ".dataframe > tbody > tr > td {\n",
       "  text-align: right;\n",
       "  white-space: pre-wrap;\n",
       "}\n",
       "</style>\n",
       "<small>shape: (2, 2)</small><table border=\"1\" class=\"dataframe\"><thead><tr><th>lunch</th><th>math score</th></tr><tr><td>str</td><td>f64</td></tr></thead><tbody><tr><td>&quot;free/reduced&quot;</td><td>58.921127</td></tr><tr><td>&quot;standard&quot;</td><td>70.034109</td></tr></tbody></table></div>"
      ],
      "text/plain": [
       "shape: (2, 2)\n",
       "┌──────────────┬────────────┐\n",
       "│ lunch        ┆ math score │\n",
       "│ ---          ┆ ---        │\n",
       "│ str          ┆ f64        │\n",
       "╞══════════════╪════════════╡\n",
       "│ free/reduced ┆ 58.921127  │\n",
       "│ standard     ┆ 70.034109  │\n",
       "└──────────────┴────────────┘"
      ]
     },
     "execution_count": 67,
     "metadata": {},
     "output_type": "execute_result"
    }
   ],
   "source": [
    "(df.group_by('lunch')\n",
    " .agg(pl.col('math score').mean())\n",
    " .collect())"
   ]
  },
  {
   "cell_type": "code",
   "execution_count": 70,
   "metadata": {},
   "outputs": [
    {
     "data": {
      "text/html": [
       "<div><style>\n",
       ".dataframe > thead > tr > th,\n",
       ".dataframe > tbody > tr > td {\n",
       "  text-align: right;\n",
       "  white-space: pre-wrap;\n",
       "}\n",
       "</style>\n",
       "<small>shape: (4, 3)</small><table border=\"1\" class=\"dataframe\"><thead><tr><th>gender</th><th>lunch</th><th>sum</th></tr><tr><td>str</td><td>str</td><td>f64</td></tr></thead><tbody><tr><td>&quot;female&quot;</td><td>&quot;standard&quot;</td><td>276.647059</td></tr><tr><td>&quot;female&quot;</td><td>&quot;free/reduced&quot;</td><td>249.375</td></tr><tr><td>&quot;male&quot;</td><td>&quot;standard&quot;</td><td>250.703704</td></tr><tr><td>&quot;male&quot;</td><td>&quot;free/reduced&quot;</td><td>226.782609</td></tr></tbody></table></div>"
      ],
      "text/plain": [
       "shape: (4, 3)\n",
       "┌────────┬──────────────┬────────────┐\n",
       "│ gender ┆ lunch        ┆ sum        │\n",
       "│ ---    ┆ ---          ┆ ---        │\n",
       "│ str    ┆ str          ┆ f64        │\n",
       "╞════════╪══════════════╪════════════╡\n",
       "│ female ┆ standard     ┆ 276.647059 │\n",
       "│ female ┆ free/reduced ┆ 249.375    │\n",
       "│ male   ┆ standard     ┆ 250.703704 │\n",
       "│ male   ┆ free/reduced ┆ 226.782609 │\n",
       "└────────┴──────────────┴────────────┘"
      ]
     },
     "execution_count": 70,
     "metadata": {},
     "output_type": "execute_result"
    }
   ],
   "source": [
    "df = df.with_columns(\n",
    "    (pl.col('math score') + pl.col('reading score') + pl.col('writing score') + pl.col('language score')).alias('sum')\n",
    ")\n",
    "\n",
    "scores_by_gender_and_lunch = (df\n",
    " .group_by(['gender', 'lunch'])\n",
    " .agg(pl.col('sum').mean())\n",
    " .sort('gender')\n",
    " .collect())\n",
    "scores_by_gender_and_lunch"
   ]
  },
  {
   "cell_type": "code",
   "execution_count": 69,
   "metadata": {},
   "outputs": [],
   "source": [
    "scores_by_gender_and_lunch.write_parquet(\"scores_by_gender_and_lunch.parquet\")"
   ]
  }
 ],
 "metadata": {
  "kernelspec": {
   "display_name": "Python 3",
   "language": "python",
   "name": "python3"
  },
  "language_info": {
   "codemirror_mode": {
    "name": "ipython",
    "version": 3
   },
   "file_extension": ".py",
   "mimetype": "text/x-python",
   "name": "python",
   "nbconvert_exporter": "python",
   "pygments_lexer": "ipython3",
   "version": "3.10.12"
  },
  "orig_nbformat": 4
 },
 "nbformat": 4,
 "nbformat_minor": 2
}
